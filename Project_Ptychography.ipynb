{
 "cells": [
  {
   "cell_type": "markdown",
   "metadata": {},
   "source": [
    "# **Project Goals**"
   ]
  },
  {
   "cell_type": "markdown",
   "metadata": {},
   "source": [
    "The goal of the project would be as follows:\n",
    "\n",
    "1: Write your own code (not an existing repo on the internet) that performs single shot ptychography using structured illumination as demonstrated in the papers by Levitan et al.\n",
    "\n",
    "2: answer the following question:\n",
    "\n",
    "a. What happens if the illumination (=probe) field has zero crossings? Is this a problem for the method? Do zero crossing result in non-measured points?\n",
    "\n",
    "b. suppose the method is simulated using 2x2 upsampling (that is, 2x2 probe pixels determine the average phase in a 1x1 super-pixel inside the object). Is it required that there is a relative phase shift between the 2x2 pixels inside the probe? Or can the modulation be amplitude-only (that is no phase shift, but an intensity variation)\n",
    "\n",
    "c. What is the minimum amount of upsampling needed?\n",
    "\n",
    "d. Is there a class of illumination functions for which the method fails?\n",
    "\n",
    "e. Try implementing regularization to the method. Please include L1, L2, and Total variation regularization."
   ]
  },
  {
   "cell_type": "markdown",
   "metadata": {},
   "source": [
    "# **Project Ptychography**"
   ]
  },
  {
   "cell_type": "markdown",
   "metadata": {},
   "source": [
    "Illumination: A grid of partially overlapping beams, each beam approaches the sample from different angles. \n",
    "\n",
    "Reconstruction: Randomized probe imaging algorithm. \n",
    "\n",
    "General strategy: Divide the intensity pattern into a collection of individual, smaller diffraction patterns. The smaller patterns are centered on an individual beam and tagged with a corresponding translation at the same plane.\n",
    "\n",
    "X-ray problem: Difficult to generate a grid of identical beams with sufficient angular separation and uniform intensities. Grating equation: $d(\n",
    "\\sin\\theta_m) = m\\lambda$. Small wavelength leads to small grating period.\n",
    "\n",
    "Feature: It recovers both the probe and the object, so the probe is not needed to be known. But the division of the detector limits resolution by limiting the NA"
   ]
  },
  {
   "cell_type": "markdown",
   "metadata": {},
   "source": [
    "Method used in the single-shot article:\n",
    "\n",
    "A purely iterative algorithm for single-shot ptychography which uses a pre-calibrated probe and operates on full diffraction patterns without partitioning them into a ptychography dataset.\n",
    "\n",
    "This method overcomes limitations of the general strategy that in cases where the object contains high frequency components, the scattering from neighboring beams does overlap and interfere, causing reconstructions to perform poorly.\n",
    "\n",
    "The forward model for this algorithm:\n",
    "\n",
    "$$I = \\sum_{n=1}^{N} \\left| \\mathcal{F} \\left\\{ P_n \\cdot \\mathcal{F}^{-1} \\left\\{ \\mathcal{U} \\cdot \\exp(i T) \\right\\} \\right\\} \\right|^2$$\n",
    "\n",
    "$P_n$ is the discrete representation= of the nth mode of the pre-calibrated probe. $\\mathcal{U} is a zero padding operator, and $T$ is a low-resolution representation of the object's transmission function\n",
    "\n",
    "Zero-padding $\\mathcal{U}$ is a band-limiting constraint that stablizes the inverse problem.\n",
    "\n",
    "$T$ is constraint to be purely real to apply an additional phase-only constraint on the object. Allowing $T$ to be complex-valued can remove the phase-only constraint. The final object function is defined as:\n",
    "\n",
    "$$ O = \\exp(iT)$$\n",
    "\n",
    "The first step of the model is to upsample the low-resolution object $O$ by padding it with zeros in Fourier space"
   ]
  }
 ],
 "metadata": {
  "kernelspec": {
   "display_name": "Python 3",
   "language": "python",
   "name": "python3"
  },
  "language_info": {
   "name": "python",
   "version": "3.12.1"
  }
 },
 "nbformat": 4,
 "nbformat_minor": 2
}
