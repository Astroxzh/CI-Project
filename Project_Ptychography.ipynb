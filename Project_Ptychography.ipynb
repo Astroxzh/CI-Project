{
 "cells": [
  {
   "cell_type": "markdown",
   "metadata": {},
   "source": [
    "# **Project Goals**"
   ]
  },
  {
   "cell_type": "markdown",
   "metadata": {},
   "source": [
    "The goal of the project would be as follows:\n",
    "\n",
    "1: Write your own code (not an existing repo on the internet) that performs single shot ptychography using structured illumination as demonstrated in the papers by Levitan et al.\n",
    "\n",
    "2: answer the following question:\n",
    "\n",
    "a. What happens if the illumination (=probe) field has zero crossings? Is this a problem for the method? Do zero crossing result in non-measured points?\n",
    "\n",
    "b. suppose the method is simulated using 2x2 upsampling (that is, 2x2 probe pixels determine the average phase in a 1x1 super-pixel inside the object). Is it required that there is a relative phase shift between the 2x2 pixels inside the probe? Or can the modulation be amplitude-only (that is no phase shift, but an intensity variation)\n",
    "\n",
    "c. What is the minimum amount of upsampling needed?\n",
    "\n",
    "d. Is there a class of illumination functions for which the method fails?\n",
    "\n",
    "e. Try implementing regularization to the method. Please include L1, L2, and Total variation regularization."
   ]
  },
  {
   "cell_type": "markdown",
   "metadata": {},
   "source": [
    "# **Project Ptychography**"
   ]
  },
  {
   "cell_type": "markdown",
   "metadata": {},
   "source": [
    "Illumination: A grid of partially overlapping beams, each beam approaches the sample from different angles. \n",
    "\n",
    "Reconstruction: Randomized probe imaging algorithm. \n",
    "\n",
    "General strategy: Divide the intensity pattern into a collection of individual, smaller diffraction patterns. The smaller patterns are centered on an individual beam and tagged with a corresponding translation at the same plane.\n",
    "\n",
    "X-ray problem: Difficult to generate a grid of identical beams with sufficient angular separation and uniform intensities. Grating equation: $d(\n",
    "\\sin\\theta_m) = m\\lambda$. Small wavelength leads to small grating period.\n",
    "\n",
    "Feature: It recovers both the probe and the object, so the probe is not needed to be known. But the division of the detector limits resolution by limiting the NA"
   ]
  },
  {
   "cell_type": "markdown",
   "metadata": {},
   "source": [
    "Method used in the single-shot article:\n",
    "\n",
    "A purely iterative algorithm for single-shot ptychography which uses a pre-calibrated probe and operates on full diffraction patterns without partitioning them into a ptychography dataset.\n",
    "\n",
    "This method overcomes limitations of the general strategy that in cases where the object contains high frequency components, the scattering from neighboring beams does overlap and interfere, causing reconstructions to perform poorly.\n",
    "\n",
    "The forward model for this algorithm:\n",
    "\n",
    "$$I = \\sum_{n=1}^{N} \\left| \\mathcal{F} \\left\\{ P_n \\cdot \\mathcal{F}^{-1} \\left\\{ \\mathcal{U} \\cdot \\mathcal{F} \\left\\{\\exp(i T)\\right\\} \\right\\} \\right\\} \\right|^2$$\n",
    "\n",
    "$P_n$ is the discrete representation= of the nth mode of the pre-calibrated probe. $\\mathcal{U} is a zero padding operator, and $T$ is a low-resolution representation of the object's transmission function\n",
    "\n",
    "Zero-padding $\\mathcal{U}$ is a band-limiting constraint that stablizes the inverse problem.\n",
    "\n",
    "$T$ is constraint to be purely real to apply an additional phase-only constraint on the object. Allowing $T$ to be complex-valued can remove the phase-only constraint. The final object function is defined as:\n",
    "\n",
    "$$ O = \\exp(iT)$$\n",
    "\n",
    "The first step of the model is to upsample the low-resolution object $O$ by padding it with zeros in Fourier space"
   ]
  },
  {
   "cell_type": "code",
<<<<<<< HEAD
   "execution_count": 36,
=======
   "execution_count": 68,
>>>>>>> 59b7ad09d332369c2bcf62c18664d7fb59ba9a90
   "metadata": {},
   "outputs": [],
   "source": [
    "\n",
    "from numpy import fft\n",
    "import h5py\n",
    "import matplotlib.pyplot as plt\n",
    "import jax.numpy as jnp"
   ]
  },
  {
   "cell_type": "code",
<<<<<<< HEAD
   "execution_count": 17,
=======
   "execution_count": null,
>>>>>>> 59b7ad09d332369c2bcf62c18664d7fb59ba9a90
   "metadata": {},
   "outputs": [],
   "source": [
    "def probe_generation():\n",
    "\n",
    "    pass\n",
    "\n",
    "def probe_read(filepath=r'Papercode\\reconstructions\\e17965_1_00678_ptycho_reconstruction.h5'):\n",
    "    with h5py.File(filepath, 'r') as f:\n",
    "        # print(\"Keys in the file:\", list(f.keys()))\n",
    "        dataset = f['probe']\n",
    "        probe = jnp.array(dataset[:])  # 读取整个数据集\n",
    "        # there are two probe modes\n",
    "        return probe"
   ]
  },
  {
   "cell_type": "code",
<<<<<<< HEAD
   "execution_count": 16,
=======
   "execution_count": null,
>>>>>>> 59b7ad09d332369c2bcf62c18664d7fb59ba9a90
   "metadata": {},
   "outputs": [],
   "source": [
    "def down_sampling_fre(obj, f=2):\n",
    "    '''\n",
    "        down sampling the obj with factor f in Fourier space\n",
    "    '''\n",
    "    m, n = obj.shape\n",
    "    obj_fre = jnp.fft.fftshift(jnp.fft.fft2(obj))\n",
    "    m_d, n_d = m // f, n // f # downsampling size\n",
    "    \n",
    "    m_center ,n_center = m // 2, n // 2 # original center\n",
    "    m_d_half, n_d_half = n_d // 2, m_d // 2 \n",
    "    \n",
    "    #index of cropped area\n",
    "    m_start = m_center - m_d_half\n",
    "    m_end = m_start + m_d\n",
    "    n_start = n_center - n_d_half\n",
    "    n_end = n_start + n_d\n",
    "    \n",
    "    obj_fre_cropped = obj_fre[m_start:m_end, n_start:n_end]\n",
    "    \n",
    "    obj_downSampled = jnp.fft.ifft2(jnp.fft.ifftshift(obj_fre_cropped))\n",
    "    return jnp.array(obj_downSampled)\n",
    "    \n",
    "    \n",
    "def down_sampling_spa(obj,f=2):\n",
    "    '''\n",
    "        down sampling the obj with factor f in spatial domain\n",
    "        block averaging is employed, average amplitude and phase\n",
    "    '''\n",
    "    m, n = obj.shape\n",
    "    \n",
    "    # crop obj to ensure integer times with the factor\n",
    "    m_crop = (m // f) * f\n",
    "    n_crop = (n // f) * f\n",
    "    obj_cropped = obj[:m_crop, :n_crop]\n",
    "\n",
    "    reshaped = obj_cropped.reshape(m_crop // f, f, n_crop // f, f)\n",
    "    obj_downSampled = reshaped.mean(axis=(1, 3))\n",
    "    \n",
    "    return jnp.array(obj_downSampled)"
   ]
  },
  {
   "cell_type": "code",
   "execution_count": null,
   "metadata": {},
   "outputs": [],
   "source": [
    "def pad_array(array, pad_array):\n",
<<<<<<< HEAD
    "    pad_factortb = (jnp.shape(pad_array)[0] - np.shape(array)[0]) // 2\n",
    "    pad_factorrl = (jnp.shape(pad_array)[1] - np.shape(array)[1]) // 2\n",
    "    paded_array = jnp.pad(array, ((pad_factortb, pad_factortb),(pad_factorrl, pad_factorrl)))\n",
    "    return paded_array"
=======
    "    pad_factortb = (jnp.shape(pad_array)[0] - jnp.shape(array)[0]) // 2\n",
    "    pad_factorrl = (jnp.shape(pad_array)[1] - jnp.shape(array)[1]) // 2\n",
    "    paded_array = jnp.pad(array, ((pad_factortb, pad_factortb),(pad_factorrl, pad_factorrl)))\n",
    "    return jnp.array(paded_array)"
>>>>>>> 59b7ad09d332369c2bcf62c18664d7fb59ba9a90
   ]
  },
  {
   "cell_type": "code",
<<<<<<< HEAD
   "execution_count": 14,
=======
   "execution_count": null,
>>>>>>> 59b7ad09d332369c2bcf62c18664d7fb59ba9a90
   "metadata": {},
   "outputs": [],
   "source": [
    "def forward_model(obj, probe, f=2):\n",
    "    '''\n",
    "        the forward model generates the update diffraction field from the down sampled obj\n",
    "        in this simulation assumes only one probe \n",
    "    '''\n",
    "    obj_downSampled = down_sampling_fre(obj, f=2)\n",
    "    obj_fre = jnp.fft.fftshift(jnp.fft.fft2(obj_downSampled))\n",
    "    obj_frepad = pad_array(obj_fre, probe)\n",
    "    obj_pad = jnp.fft.ifft2(jnp.fft.ifftshift(obj_frepad))\n",
    "    update_diff_pattern = jnp.abs(jnp.fft.fftshift(jnp.fft.fft2((probe[0,:,:] * 0.756 + probe[1,:,:] * 0.244) * obj_pad))) ** 2\n",
    "\n",
    "    return jnp.array(update_diff_pattern)"
   ]
  },
  {
   "cell_type": "markdown",
   "metadata": {},
   "source": [
    "## **Reconstruction**"
   ]
  },
  {
   "cell_type": "markdown",
   "metadata": {},
   "source": [
    "To perform a reconstruction, we start with an initial guess of the project function and use a forward model to simulate the corresponding diffraction pattern. \n",
    "\n",
    "Next, we calculate the normalized mean squared error between the measured diffraction amplitudes and a simulated diffraction pattern including a known detector background:\n",
    "\n",
    "$$ L = \\frac{1}{\\sum_{ij}I_{ij}} \\sum_{ij}\\left( \\sqrt{|\\tilde{E_{ij}}|^2 + B_{ij}} - \\sqrt{I_{ij}}\\right)^2$$\n",
    "\n",
    "From the equation above, we can write it in Python:"
   ]
  },
  {
   "cell_type": "code",
<<<<<<< HEAD
   "execution_count": 2,
=======
   "execution_count": 60,
>>>>>>> 59b7ad09d332369c2bcf62c18664d7fb59ba9a90
   "metadata": {},
   "outputs": [],
   "source": [
    "import jax.numpy as jnp\n",
    "from chex import assert_equal_shape\n",
    "\n",
    "def loss_function(simulated: jnp.ndarray, background: jnp.ndarray, measured: jnp.ndarray) -> float:\n",
    "    '''\n",
    "    Calculates the normalized mean squared error (L) for the given simulated diffraction amplitudes E, detector background B, and the measured diffraction pattern I.\n",
    "\n",
    "    Args: \n",
    "        simulated (jnp.ndarray): The simulated diffraction pattern (Intensity) calculated from a forward model\n",
    "        backgroud (jnp.ndarray): The detector background (Intensity)\n",
    "        I (jnp.ndarray): The measured diffraction pattern (Intensity)\n",
    "    \n",
    "    Return:\n",
    "        float: The normalized mean squared error (L) \n",
    "    '''\n",
    "    # Assert that the three arrays have the same shape\n",
    "    assert_equal_shape([simulated, background, measured])\n",
    "\n",
    "    # Calculate the factor to normalize the error\n",
    "    factor = 1.0 / (jnp.sum(measured) + 1e-10)\n",
    "\n",
    "    # Calculate the simulated diffraction amplitudes\n",
    "    simulated_amp = jnp.sqrt(simulated + background)\n",
    "\n",
    "    # Calculate the measured diffraction amplitudes\n",
    "    measured_amp = jnp.sqrt(measured)\n",
    "\n",
    "    # Calculate the normalized mean squared error\n",
    "    loss = factor * jnp.sum((simulated_amp - measured_amp) ** 2)\n",
    "\n",
    "    return loss"
   ]
  },
  {
   "cell_type": "markdown",
   "metadata": {},
   "source": [
    "Example usage:"
   ]
  },
  {
   "cell_type": "code",
   "execution_count": 61,
   "metadata": {},
   "outputs": [
    {
     "name": "stdout",
     "output_type": "stream",
     "text": [
      "loss = 0.19935277\n"
     ]
    }
   ],
   "source": [
    "simulated = jnp.array([[1.0, 2.0], [3.0, 4.0]])  # Simulated amplitudes (complex or real)\n",
    "background = jnp.array([[0.1, 0.1], [0.1, 0.1]])   # Background\n",
    "measured = jnp.array([[1.5, 4.5], [9.5, 16.5]])   # Measured intensities\n",
    "\n",
    "print(\"loss =\", loss_function(simulated, background, measured))"
   ]
  },
  {
   "cell_type": "markdown",
   "metadata": {},
   "source": [
    "We then use automatic differentiation to calculate the Wirtinger derivative of the loss function with respect to the object guess $T$:\n",
    "\n",
    "$$ \\frac{\\delta L}{\\delta T} = \\frac{\\delta L}{\\delta |E_{ij}|^2} \\frac{\\delta |E_{ij}|^2}{\\delta T}$$"
   ]
  },
  {
   "cell_type": "code",
<<<<<<< HEAD
   "execution_count": 4,
=======
   "execution_count": 62,
>>>>>>> 59b7ad09d332369c2bcf62c18664d7fb59ba9a90
   "metadata": {},
   "outputs": [],
   "source": [
    "from jax import grad\n",
    "\n",
    "def derivative_loss_function_wrt_obj(obj: jnp.ndarray, measured: jnp.ndarray, background: jnp.ndarray, probe: jnp.ndarray) -> jnp.ndarray:\n",
    "    '''\n",
    "    Calculates the Wirtinger derivative of the loss function with respect to the object guess obj.\n",
    "\n",
    "    Args:\n",
    "        obj (jnp.ndarray): The object guess (complex or real)\n",
    "\n",
    "    Return:\n",
    "        jnp.ndarray: The derivative of the loss function with respect to the object guess obj\n",
    "    '''\n",
    "    def loss_wrt_obj(obj, probe):\n",
    "        simulated = forward_model(obj, probe)\n",
    "        return loss_function(simulated, background, measured)\n",
    "    return grad(loss_wrt_obj)(obj, probe)"
   ]
  },
  {
   "cell_type": "markdown",
   "metadata": {},
   "source": [
    "Then, we feed those derivatives into an update for the object guess $T_{guess}$ using the Adam algorithm. This process is repeated iteratively until the object converges.\n",
    "\n",
    "Adam is short for Adaptive Moment Estimation. It's a popular optimization algorithm used in machine learning to train models like neural networks. It's a type of stochastic gradient descent (SGD) that adapts the learning rate for each parameter.\n",
    "\n",
    "Adam maintains two moving averages for each parameter $\\theta$:\n",
    "\n",
    "1.First Moment (Mean): An estimate of the gradient, similar to momentum, denoted as:\n",
    "$$ m_{t} = \\beta_{1}m_{t-1} + (1 - \\beta_1)g_t $$\n",
    "where $g_t$ is the gradient at time step t, and $\\beta_1$ is typically set to 0.9.\n",
    "\n",
    "2.Second Moment (Variance): An estimate of the squared gradient, similar to RMSprop, denoted as:\n",
    "$$ v_t = \\beta_2v_{t-1} + (1-\\beta_2)g_t^2$$\n",
    "where $\\beta_2$ is typically set to 0.999.\n",
    "\n",
    "The bias-corrected first and second moments are: \n",
    "$$ \\hat{m}_t = \\frac{m_t}{1 - \\beta_1^t}$$\n",
    "$$ \\hat{v}_t = \\frac{v_t}{1-\\beta_2^t}$$\n",
    "\n",
    "The parameter update rule is then:\n",
    "\n",
    "$$ \\theta_{t+1} = \\theta_t - \\alpha \\frac{\\hat{m}_t}{\\sqrt{\\hat{v}_t} + \\epsilon}$$\n",
    "\n",
    " where $\\alpha$ is the learning rate, $\\epsilon$ is a small constant to prevent division by zero, and $t$ is the current iteration."
   ]
  },
  {
   "cell_type": "code",
<<<<<<< HEAD
   "execution_count": 6,
=======
   "execution_count": 63,
>>>>>>> 59b7ad09d332369c2bcf62c18664d7fb59ba9a90
   "metadata": {},
   "outputs": [],
   "source": [
    "import optax\n",
    "\n",
    "def adam_optimization(init_obj: jnp.ndarray, measured: jnp.ndarray, background: jnp.ndarray, probe: jnp.ndarray, learning_rate: float, num_iterations: int) -> jnp.ndarray:\n",
    "    '''\n",
    "    Optimizes the object guess using the Adam optimizer.\n",
    "\n",
    "    Args:\n",
    "        init_obj (jnp.ndarray): The initial object guess (complex or real)\n",
    "        measured (jnp.ndarray): The measured diffraction pattern (Intensity)\n",
    "        learning_rate (float): The learning rate\n",
    "        num_iterations (int): The number of optimization iterations\n",
    "\n",
    "    Return:\n",
    "        jnp.ndarray: The optimized object guess\n",
    "    '''\n",
    "    # Initialize the Adam optimizer, beta_1 and beta_2 are default as 0.9 and 0.999 respectively\n",
    "    optimizer = optax.adam(learning_rate)\n",
    "\n",
    "    # Initialize the state of the optimizer\n",
    "    opt_state = optimizer.init(init_obj)\n",
    "\n",
    "    obj = init_obj                       \n",
    "    for _ in range(num_iterations):\n",
    "        # Calculate the gradient of the loss function wrt the object guess\n",
    "        grad_obj = derivative_loss_function_wrt_obj(obj, measured, background, probe)\n",
    "\n",
    "        # Update the optimizer state\n",
    "        updates, opt_state = optimizer.update(grad_obj, opt_state, obj)\n",
    "\n",
    "        # Update the object guess\n",
    "        obj = optax.apply_updates(obj, updates)\n",
    "\n",
    "    return obj"
   ]
  },
  {
   "cell_type": "code",
<<<<<<< HEAD
   "execution_count": 27,
=======
   "execution_count": 64,
>>>>>>> 59b7ad09d332369c2bcf62c18664d7fb59ba9a90
   "metadata": {},
   "outputs": [],
   "source": [
    "def data_read(filepath=r'Papercode\\cxi_files\\e17965_1_00677.cxi'):\n",
    "    with h5py.File(filepath, 'r') as f:\n",
    "        data = f['entry_1/data_1/data'][:]\n",
    "        data = jnp.sum(data,axis=0)\n",
    "    return data"
   ]
  },
  {
   "cell_type": "code",
<<<<<<< HEAD
   "execution_count": 28,
=======
   "execution_count": 65,
>>>>>>> 59b7ad09d332369c2bcf62c18664d7fb59ba9a90
   "metadata": {},
   "outputs": [],
   "source": [
    "data = jnp.array(data_read())\n",
    "probe = jnp.array(probe_read())\n",
    "filename = r'Papercode\\reconstructions\\e17965_1_00677_ptycho_reconstruction.h5'\n",
    "with h5py.File(filename, 'r') as f:\n",
    "    bcg = jnp.array(f['background'][:])\n"
   ]
  },
  {
   "cell_type": "code",
<<<<<<< HEAD
   "execution_count": 34,
=======
   "execution_count": 66,
>>>>>>> 59b7ad09d332369c2bcf62c18664d7fb59ba9a90
   "metadata": {},
   "outputs": [],
   "source": [
    "import jax.random as jran\n",
    "#initilize\n",
    "# initial_data = data * np.exp(1j * np.random.uniform(0, 2*np.pi, size=data.shape))\n",
<<<<<<< HEAD
    "key = jran.PRNGKey(10)\n",
    "initial_obj_guess = jnp.ones(np.shape(data))* jnp.exp(1j * jran.uniform(key, shape=jnp.shape(data), minval=0, maxval=2*jnp.pi))\n",
=======
    "initial_obj_guess = jnp.ones(jnp.shape(data))* jnp.exp(1j * np.random.uniform(0, 2*jnp.pi, size=data.shape))\n",
>>>>>>> 59b7ad09d332369c2bcf62c18664d7fb59ba9a90
    "obj = jnp.copy(initial_obj_guess)"
   ]
  },
  {
   "cell_type": "code",
<<<<<<< HEAD
   "execution_count": 35,
=======
   "execution_count": 67,
>>>>>>> 59b7ad09d332369c2bcf62c18664d7fb59ba9a90
   "metadata": {},
   "outputs": [
    {
     "ename": "TracerArrayConversionError",
     "evalue": "The numpy.ndarray conversion method __array__() was called on traced array with shape complex64[624,624]\nSee https://jax.readthedocs.io/en/latest/errors.html#jax.errors.TracerArrayConversionError",
     "output_type": "error",
     "traceback": [
<<<<<<< HEAD
      "\u001b[31m---------------------------------------------------------------------------\u001b[39m",
      "\u001b[31mTracerArrayConversionError\u001b[39m                Traceback (most recent call last)",
      "\u001b[36mCell\u001b[39m\u001b[36m \u001b[39m\u001b[32mIn[35]\u001b[39m\u001b[32m, line 1\u001b[39m\n\u001b[32m----> \u001b[39m\u001b[32m1\u001b[39m update_obj = \u001b[43madam_optimization\u001b[49m\u001b[43m(\u001b[49m\u001b[43minit_obj\u001b[49m\u001b[43m \u001b[49m\u001b[43m=\u001b[49m\u001b[43m \u001b[49m\u001b[43mjnp\u001b[49m\u001b[43m.\u001b[49m\u001b[43marray\u001b[49m\u001b[43m(\u001b[49m\u001b[43mobj\u001b[49m\u001b[43m)\u001b[49m\u001b[43m,\u001b[49m\u001b[43m \u001b[49m\u001b[43mmeasured\u001b[49m\u001b[43m \u001b[49m\u001b[43m=\u001b[49m\u001b[43m \u001b[49m\u001b[43mjnp\u001b[49m\u001b[43m.\u001b[49m\u001b[43marray\u001b[49m\u001b[43m(\u001b[49m\u001b[43mdata\u001b[49m\u001b[43m)\u001b[49m\u001b[43m,\u001b[49m\u001b[43m \u001b[49m\u001b[43mbackground\u001b[49m\u001b[43m \u001b[49m\u001b[43m=\u001b[49m\u001b[43m \u001b[49m\u001b[43mjnp\u001b[49m\u001b[43m.\u001b[49m\u001b[43marray\u001b[49m\u001b[43m(\u001b[49m\u001b[43mbcg\u001b[49m\u001b[43m)\u001b[49m\u001b[43m,\u001b[49m\u001b[43m \u001b[49m\u001b[43mprobe\u001b[49m\u001b[43m \u001b[49m\u001b[43m=\u001b[49m\u001b[43m \u001b[49m\u001b[43mjnp\u001b[49m\u001b[43m.\u001b[49m\u001b[43marray\u001b[49m\u001b[43m(\u001b[49m\u001b[43mprobe\u001b[49m\u001b[43m)\u001b[49m\u001b[43m,\u001b[49m\u001b[43m \u001b[49m\u001b[43mlearning_rate\u001b[49m\u001b[43m \u001b[49m\u001b[43m=\u001b[49m\u001b[43m \u001b[49m\u001b[32;43m0.4\u001b[39;49m\u001b[43m,\u001b[49m\u001b[43m \u001b[49m\u001b[43mnum_iterations\u001b[49m\u001b[43m \u001b[49m\u001b[43m=\u001b[49m\u001b[43m \u001b[49m\u001b[32;43m1000\u001b[39;49m\u001b[43m)\u001b[49m\n\u001b[32m      2\u001b[39m plt.imshow(jnp.abs(update_obj))\n",
      "\u001b[36mCell\u001b[39m\u001b[36m \u001b[39m\u001b[32mIn[6]\u001b[39m\u001b[32m, line 25\u001b[39m, in \u001b[36madam_optimization\u001b[39m\u001b[34m(init_obj, measured, background, probe, learning_rate, num_iterations)\u001b[39m\n\u001b[32m     22\u001b[39m obj = init_obj                       \n\u001b[32m     23\u001b[39m \u001b[38;5;28;01mfor\u001b[39;00m _ \u001b[38;5;129;01min\u001b[39;00m \u001b[38;5;28mrange\u001b[39m(num_iterations):\n\u001b[32m     24\u001b[39m     \u001b[38;5;66;03m# Calculate the gradient of the loss function wrt the object guess\u001b[39;00m\n\u001b[32m---> \u001b[39m\u001b[32m25\u001b[39m     grad_obj = \u001b[43mderivative_loss_function_wrt_obj\u001b[49m\u001b[43m(\u001b[49m\u001b[43mobj\u001b[49m\u001b[43m,\u001b[49m\u001b[43m \u001b[49m\u001b[43mmeasured\u001b[49m\u001b[43m,\u001b[49m\u001b[43m \u001b[49m\u001b[43mbackground\u001b[49m\u001b[43m,\u001b[49m\u001b[43m \u001b[49m\u001b[43mprobe\u001b[49m\u001b[43m)\u001b[49m\n\u001b[32m     27\u001b[39m     \u001b[38;5;66;03m# Update the optimizer state\u001b[39;00m\n\u001b[32m     28\u001b[39m     updates, opt_state = optimizer.update(grad_obj, opt_state, obj)\n",
      "\u001b[36mCell\u001b[39m\u001b[36m \u001b[39m\u001b[32mIn[4]\u001b[39m\u001b[32m, line 16\u001b[39m, in \u001b[36mderivative_loss_function_wrt_obj\u001b[39m\u001b[34m(obj, measured, background, probe)\u001b[39m\n\u001b[32m     14\u001b[39m     simulated = forward_model(obj, probe)\n\u001b[32m     15\u001b[39m     \u001b[38;5;28;01mreturn\u001b[39;00m loss_function(simulated, background, measured)\n\u001b[32m---> \u001b[39m\u001b[32m16\u001b[39m \u001b[38;5;28;01mreturn\u001b[39;00m \u001b[43mgrad\u001b[49m\u001b[43m(\u001b[49m\u001b[43mloss_wrt_obj\u001b[49m\u001b[43m)\u001b[49m\u001b[43m(\u001b[49m\u001b[43mobj\u001b[49m\u001b[43m,\u001b[49m\u001b[43m \u001b[49m\u001b[43mprobe\u001b[49m\u001b[43m)\u001b[49m\n",
      "    \u001b[31m[... skipping hidden 17 frame]\u001b[39m\n",
      "\u001b[36mCell\u001b[39m\u001b[36m \u001b[39m\u001b[32mIn[4]\u001b[39m\u001b[32m, line 14\u001b[39m, in \u001b[36mderivative_loss_function_wrt_obj.<locals>.loss_wrt_obj\u001b[39m\u001b[34m(obj, probe)\u001b[39m\n\u001b[32m     13\u001b[39m \u001b[38;5;28;01mdef\u001b[39;00m\u001b[38;5;250m \u001b[39m\u001b[34mloss_wrt_obj\u001b[39m(obj, probe):\n\u001b[32m---> \u001b[39m\u001b[32m14\u001b[39m     simulated = \u001b[43mforward_model\u001b[49m\u001b[43m(\u001b[49m\u001b[43mobj\u001b[49m\u001b[43m,\u001b[49m\u001b[43m \u001b[49m\u001b[43mprobe\u001b[49m\u001b[43m)\u001b[49m\n\u001b[32m     15\u001b[39m     \u001b[38;5;28;01mreturn\u001b[39;00m loss_function(simulated, background, measured)\n",
      "\u001b[36mCell\u001b[39m\u001b[36m \u001b[39m\u001b[32mIn[14]\u001b[39m\u001b[32m, line 6\u001b[39m, in \u001b[36mforward_model\u001b[39m\u001b[34m(obj, probe, f)\u001b[39m\n\u001b[32m      1\u001b[39m \u001b[38;5;28;01mdef\u001b[39;00m\u001b[38;5;250m \u001b[39m\u001b[34mforward_model\u001b[39m(obj, probe, f=\u001b[32m2\u001b[39m):\n\u001b[32m      2\u001b[39m \u001b[38;5;250m    \u001b[39m\u001b[33;03m'''\u001b[39;00m\n\u001b[32m      3\u001b[39m \u001b[33;03m        the forward model generates the update diffraction field from the down sampled obj\u001b[39;00m\n\u001b[32m      4\u001b[39m \u001b[33;03m        in this simulation assumes only one probe \u001b[39;00m\n\u001b[32m      5\u001b[39m \u001b[33;03m    '''\u001b[39;00m\n\u001b[32m----> \u001b[39m\u001b[32m6\u001b[39m     obj_downSampled = \u001b[43mdown_sampling_fre\u001b[49m\u001b[43m(\u001b[49m\u001b[43mobj\u001b[49m\u001b[43m,\u001b[49m\u001b[43m \u001b[49m\u001b[43mf\u001b[49m\u001b[43m=\u001b[49m\u001b[32;43m2\u001b[39;49m\u001b[43m)\u001b[49m\n\u001b[32m      7\u001b[39m     obj_fre = fft.fftshift(fft.fft2(obj_downSampled))\n\u001b[32m      8\u001b[39m     obj_frepad = pad_array(obj_fre, probe)\n",
      "\u001b[36mCell\u001b[39m\u001b[36m \u001b[39m\u001b[32mIn[16]\u001b[39m\u001b[32m, line 6\u001b[39m, in \u001b[36mdown_sampling_fre\u001b[39m\u001b[34m(obj, f)\u001b[39m\n\u001b[32m      2\u001b[39m \u001b[38;5;250m\u001b[39m\u001b[33;03m'''\u001b[39;00m\n\u001b[32m      3\u001b[39m \u001b[33;03m    down sampling the obj with factor f in Fourier space\u001b[39;00m\n\u001b[32m      4\u001b[39m \u001b[33;03m'''\u001b[39;00m\n\u001b[32m      5\u001b[39m m, n = obj.shape\n\u001b[32m----> \u001b[39m\u001b[32m6\u001b[39m obj_fre = fft.fftshift(\u001b[43mfft\u001b[49m\u001b[43m.\u001b[49m\u001b[43mfft2\u001b[49m\u001b[43m(\u001b[49m\u001b[43mobj\u001b[49m\u001b[43m)\u001b[49m)\n\u001b[32m      7\u001b[39m m_d, n_d = m // f, n // f \u001b[38;5;66;03m# downsampling size\u001b[39;00m\n\u001b[32m      9\u001b[39m m_center ,n_center = m // \u001b[32m2\u001b[39m, n // \u001b[32m2\u001b[39m \u001b[38;5;66;03m# original center\u001b[39;00m\n",
      "\u001b[36mFile \u001b[39m\u001b[32md:\\Msc.Photonics\\Semester 3\\Computational Imaging\\CI-Project\\.venv\\Lib\\site-packages\\numpy\\fft\\_pocketfft.py:1135\u001b[39m, in \u001b[36mfft2\u001b[39m\u001b[34m(a, s, axes, norm, out)\u001b[39m\n\u001b[32m   1013\u001b[39m \u001b[38;5;129m@array_function_dispatch\u001b[39m(_fftn_dispatcher)\n\u001b[32m   1014\u001b[39m \u001b[38;5;28;01mdef\u001b[39;00m\u001b[38;5;250m \u001b[39m\u001b[34mfft2\u001b[39m(a, s=\u001b[38;5;28;01mNone\u001b[39;00m, axes=(-\u001b[32m2\u001b[39m, -\u001b[32m1\u001b[39m), norm=\u001b[38;5;28;01mNone\u001b[39;00m, out=\u001b[38;5;28;01mNone\u001b[39;00m):\n\u001b[32m   1015\u001b[39m \u001b[38;5;250m    \u001b[39m\u001b[33;03m\"\"\"\u001b[39;00m\n\u001b[32m   1016\u001b[39m \u001b[33;03m    Compute the 2-dimensional discrete Fourier Transform.\u001b[39;00m\n\u001b[32m   1017\u001b[39m \n\u001b[32m   (...)\u001b[39m\u001b[32m   1133\u001b[39m \n\u001b[32m   1134\u001b[39m \u001b[33;03m    \"\"\"\u001b[39;00m\n\u001b[32m-> \u001b[39m\u001b[32m1135\u001b[39m     \u001b[38;5;28;01mreturn\u001b[39;00m \u001b[43m_raw_fftnd\u001b[49m\u001b[43m(\u001b[49m\u001b[43ma\u001b[49m\u001b[43m,\u001b[49m\u001b[43m \u001b[49m\u001b[43ms\u001b[49m\u001b[43m,\u001b[49m\u001b[43m \u001b[49m\u001b[43maxes\u001b[49m\u001b[43m,\u001b[49m\u001b[43m \u001b[49m\u001b[43mfft\u001b[49m\u001b[43m,\u001b[49m\u001b[43m \u001b[49m\u001b[43mnorm\u001b[49m\u001b[43m,\u001b[49m\u001b[43m \u001b[49m\u001b[43mout\u001b[49m\u001b[43m=\u001b[49m\u001b[43mout\u001b[49m\u001b[43m)\u001b[49m\n",
      "\u001b[36mFile \u001b[39m\u001b[32md:\\Msc.Photonics\\Semester 3\\Computational Imaging\\CI-Project\\.venv\\Lib\\site-packages\\numpy\\fft\\_pocketfft.py:736\u001b[39m, in \u001b[36m_raw_fftnd\u001b[39m\u001b[34m(a, s, axes, function, norm, out)\u001b[39m\n\u001b[32m    735\u001b[39m \u001b[38;5;28;01mdef\u001b[39;00m\u001b[38;5;250m \u001b[39m\u001b[34m_raw_fftnd\u001b[39m(a, s=\u001b[38;5;28;01mNone\u001b[39;00m, axes=\u001b[38;5;28;01mNone\u001b[39;00m, function=fft, norm=\u001b[38;5;28;01mNone\u001b[39;00m, out=\u001b[38;5;28;01mNone\u001b[39;00m):\n\u001b[32m--> \u001b[39m\u001b[32m736\u001b[39m     a = \u001b[43masarray\u001b[49m\u001b[43m(\u001b[49m\u001b[43ma\u001b[49m\u001b[43m)\u001b[49m\n\u001b[32m    737\u001b[39m     s, axes = _cook_nd_args(a, s, axes)\n\u001b[32m    738\u001b[39m     itl = \u001b[38;5;28mlist\u001b[39m(\u001b[38;5;28mrange\u001b[39m(\u001b[38;5;28mlen\u001b[39m(axes)))\n",
      "\u001b[36mFile \u001b[39m\u001b[32md:\\Msc.Photonics\\Semester 3\\Computational Imaging\\CI-Project\\.venv\\Lib\\site-packages\\jax\\_src\\core.py:692\u001b[39m, in \u001b[36mTracer.__array__\u001b[39m\u001b[34m(self, *args, **kw)\u001b[39m\n\u001b[32m    691\u001b[39m \u001b[38;5;28;01mdef\u001b[39;00m\u001b[38;5;250m \u001b[39m\u001b[34m__array__\u001b[39m(\u001b[38;5;28mself\u001b[39m, *args, **kw):\n\u001b[32m--> \u001b[39m\u001b[32m692\u001b[39m   \u001b[38;5;28;01mraise\u001b[39;00m TracerArrayConversionError(\u001b[38;5;28mself\u001b[39m)\n",
      "\u001b[31mTracerArrayConversionError\u001b[39m: The numpy.ndarray conversion method __array__() was called on traced array with shape complex64[624,624]\nSee https://jax.readthedocs.io/en/latest/errors.html#jax.errors.TracerArrayConversionError"
=======
      "\u001b[1;31m---------------------------------------------------------------------------\u001b[0m",
      "\u001b[1;31mTracerArrayConversionError\u001b[0m                Traceback (most recent call last)",
      "Cell \u001b[1;32mIn[67], line 1\u001b[0m\n\u001b[1;32m----> 1\u001b[0m update_obj \u001b[38;5;241m=\u001b[39m \u001b[43madam_optimization\u001b[49m\u001b[43m(\u001b[49m\u001b[43mjnp\u001b[49m\u001b[38;5;241;43m.\u001b[39;49m\u001b[43marray\u001b[49m\u001b[43m(\u001b[49m\u001b[43mobj\u001b[49m\u001b[43m)\u001b[49m\u001b[43m,\u001b[49m\u001b[43m \u001b[49m\u001b[43mjnp\u001b[49m\u001b[38;5;241;43m.\u001b[39;49m\u001b[43marray\u001b[49m\u001b[43m(\u001b[49m\u001b[43mdata\u001b[49m\u001b[43m)\u001b[49m\u001b[43m,\u001b[49m\u001b[43m \u001b[49m\u001b[43mjnp\u001b[49m\u001b[38;5;241;43m.\u001b[39;49m\u001b[43marray\u001b[49m\u001b[43m(\u001b[49m\u001b[43mbcg\u001b[49m\u001b[43m)\u001b[49m\u001b[43m,\u001b[49m\u001b[43m \u001b[49m\u001b[43mjnp\u001b[49m\u001b[38;5;241;43m.\u001b[39;49m\u001b[43marray\u001b[49m\u001b[43m(\u001b[49m\u001b[43mprobe\u001b[49m\u001b[43m)\u001b[49m\u001b[43m,\u001b[49m\u001b[43m \u001b[49m\u001b[38;5;241;43m0.4\u001b[39;49m\u001b[43m,\u001b[49m\u001b[43m \u001b[49m\u001b[38;5;241;43m1000\u001b[39;49m\u001b[43m)\u001b[49m\n\u001b[0;32m      2\u001b[0m plt\u001b[38;5;241m.\u001b[39mimshow(jnp\u001b[38;5;241m.\u001b[39mabs(update_obj))\n",
      "Cell \u001b[1;32mIn[63], line 25\u001b[0m, in \u001b[0;36madam_optimization\u001b[1;34m(init_obj, measured, background, probe, learning_rate, num_iterations)\u001b[0m\n\u001b[0;32m     22\u001b[0m obj \u001b[38;5;241m=\u001b[39m init_obj                       \n\u001b[0;32m     23\u001b[0m \u001b[38;5;28;01mfor\u001b[39;00m _ \u001b[38;5;129;01min\u001b[39;00m \u001b[38;5;28mrange\u001b[39m(num_iterations):\n\u001b[0;32m     24\u001b[0m     \u001b[38;5;66;03m# Calculate the gradient of the loss function wrt the object guess\u001b[39;00m\n\u001b[1;32m---> 25\u001b[0m     grad_obj \u001b[38;5;241m=\u001b[39m \u001b[43mderivative_loss_function_wrt_obj\u001b[49m\u001b[43m(\u001b[49m\u001b[43mobj\u001b[49m\u001b[43m,\u001b[49m\u001b[43m \u001b[49m\u001b[43mmeasured\u001b[49m\u001b[43m,\u001b[49m\u001b[43m \u001b[49m\u001b[43mbackground\u001b[49m\u001b[43m,\u001b[49m\u001b[43m \u001b[49m\u001b[43mprobe\u001b[49m\u001b[43m)\u001b[49m\n\u001b[0;32m     27\u001b[0m     \u001b[38;5;66;03m# Update the optimizer state\u001b[39;00m\n\u001b[0;32m     28\u001b[0m     updates, opt_state \u001b[38;5;241m=\u001b[39m optimizer\u001b[38;5;241m.\u001b[39mupdate(grad_obj, opt_state, obj)\n",
      "Cell \u001b[1;32mIn[62], line 16\u001b[0m, in \u001b[0;36mderivative_loss_function_wrt_obj\u001b[1;34m(obj, measured, background, probe)\u001b[0m\n\u001b[0;32m     14\u001b[0m     simulated \u001b[38;5;241m=\u001b[39m forward_model(obj, probe)\n\u001b[0;32m     15\u001b[0m     \u001b[38;5;28;01mreturn\u001b[39;00m loss_function(simulated, background, measured)\n\u001b[1;32m---> 16\u001b[0m \u001b[38;5;28;01mreturn\u001b[39;00m \u001b[43mgrad\u001b[49m\u001b[43m(\u001b[49m\u001b[43mloss_wrt_obj\u001b[49m\u001b[43m)\u001b[49m\u001b[43m(\u001b[49m\u001b[43mobj\u001b[49m\u001b[43m,\u001b[49m\u001b[43m \u001b[49m\u001b[43mprobe\u001b[49m\u001b[43m)\u001b[49m\n",
      "    \u001b[1;31m[... skipping hidden 18 frame]\u001b[0m\n",
      "Cell \u001b[1;32mIn[62], line 14\u001b[0m, in \u001b[0;36mderivative_loss_function_wrt_obj.<locals>.loss_wrt_obj\u001b[1;34m(obj, probe)\u001b[0m\n\u001b[0;32m     13\u001b[0m \u001b[38;5;28;01mdef\u001b[39;00m \u001b[38;5;21mloss_wrt_obj\u001b[39m(obj, probe):\n\u001b[1;32m---> 14\u001b[0m     simulated \u001b[38;5;241m=\u001b[39m \u001b[43mforward_model\u001b[49m\u001b[43m(\u001b[49m\u001b[43mobj\u001b[49m\u001b[43m,\u001b[49m\u001b[43m \u001b[49m\u001b[43mprobe\u001b[49m\u001b[43m)\u001b[49m\n\u001b[0;32m     15\u001b[0m     \u001b[38;5;28;01mreturn\u001b[39;00m loss_function(simulated, background, measured)\n",
      "Cell \u001b[1;32mIn[59], line 6\u001b[0m, in \u001b[0;36mforward_model\u001b[1;34m(obj, probe, f)\u001b[0m\n\u001b[0;32m      1\u001b[0m \u001b[38;5;28;01mdef\u001b[39;00m \u001b[38;5;21mforward_model\u001b[39m(obj, probe, f\u001b[38;5;241m=\u001b[39m\u001b[38;5;241m2\u001b[39m):\n\u001b[0;32m      2\u001b[0m \u001b[38;5;250m    \u001b[39m\u001b[38;5;124;03m'''\u001b[39;00m\n\u001b[0;32m      3\u001b[0m \u001b[38;5;124;03m        the forward model generates the update diffraction field from the down sampled obj\u001b[39;00m\n\u001b[0;32m      4\u001b[0m \u001b[38;5;124;03m        in this simulation assumes only one probe \u001b[39;00m\n\u001b[0;32m      5\u001b[0m \u001b[38;5;124;03m    '''\u001b[39;00m\n\u001b[1;32m----> 6\u001b[0m     obj_downSampled \u001b[38;5;241m=\u001b[39m \u001b[43mdown_sampling_fre\u001b[49m\u001b[43m(\u001b[49m\u001b[43mobj\u001b[49m\u001b[43m,\u001b[49m\u001b[43m \u001b[49m\u001b[43mf\u001b[49m\u001b[38;5;241;43m=\u001b[39;49m\u001b[38;5;241;43m2\u001b[39;49m\u001b[43m)\u001b[49m\n\u001b[0;32m      7\u001b[0m     obj_fre \u001b[38;5;241m=\u001b[39m fft\u001b[38;5;241m.\u001b[39mfftshift(fft\u001b[38;5;241m.\u001b[39mfft2(obj_downSampled))\n\u001b[0;32m      8\u001b[0m     obj_frepad \u001b[38;5;241m=\u001b[39m pad_array(obj_fre, probe)\n",
      "Cell \u001b[1;32mIn[57], line 6\u001b[0m, in \u001b[0;36mdown_sampling_fre\u001b[1;34m(obj, f)\u001b[0m\n\u001b[0;32m      2\u001b[0m \u001b[38;5;250m\u001b[39m\u001b[38;5;124;03m'''\u001b[39;00m\n\u001b[0;32m      3\u001b[0m \u001b[38;5;124;03m    down sampling the obj with factor f in Fourier space\u001b[39;00m\n\u001b[0;32m      4\u001b[0m \u001b[38;5;124;03m'''\u001b[39;00m\n\u001b[0;32m      5\u001b[0m m, n \u001b[38;5;241m=\u001b[39m obj\u001b[38;5;241m.\u001b[39mshape\n\u001b[1;32m----> 6\u001b[0m obj_fre \u001b[38;5;241m=\u001b[39m fft\u001b[38;5;241m.\u001b[39mfftshift(\u001b[43mfft\u001b[49m\u001b[38;5;241;43m.\u001b[39;49m\u001b[43mfft2\u001b[49m\u001b[43m(\u001b[49m\u001b[43mobj\u001b[49m\u001b[43m)\u001b[49m)\n\u001b[0;32m      7\u001b[0m m_d, n_d \u001b[38;5;241m=\u001b[39m m \u001b[38;5;241m/\u001b[39m\u001b[38;5;241m/\u001b[39m f, n \u001b[38;5;241m/\u001b[39m\u001b[38;5;241m/\u001b[39m f \u001b[38;5;66;03m# downsampling size\u001b[39;00m\n\u001b[0;32m      9\u001b[0m m_center ,n_center \u001b[38;5;241m=\u001b[39m m \u001b[38;5;241m/\u001b[39m\u001b[38;5;241m/\u001b[39m \u001b[38;5;241m2\u001b[39m, n \u001b[38;5;241m/\u001b[39m\u001b[38;5;241m/\u001b[39m \u001b[38;5;241m2\u001b[39m \u001b[38;5;66;03m# original center\u001b[39;00m\n",
      "File \u001b[1;32md:\\Miniconda\\envs\\vspace\\Lib\\site-packages\\numpy\\fft\\_pocketfft.py:1014\u001b[0m, in \u001b[0;36mfft2\u001b[1;34m(a, s, axes, norm)\u001b[0m\n\u001b[0;32m    921\u001b[0m \u001b[38;5;129m@array_function_dispatch\u001b[39m(_fftn_dispatcher)\n\u001b[0;32m    922\u001b[0m \u001b[38;5;28;01mdef\u001b[39;00m \u001b[38;5;21mfft2\u001b[39m(a, s\u001b[38;5;241m=\u001b[39m\u001b[38;5;28;01mNone\u001b[39;00m, axes\u001b[38;5;241m=\u001b[39m(\u001b[38;5;241m-\u001b[39m\u001b[38;5;241m2\u001b[39m, \u001b[38;5;241m-\u001b[39m\u001b[38;5;241m1\u001b[39m), norm\u001b[38;5;241m=\u001b[39m\u001b[38;5;28;01mNone\u001b[39;00m):\n\u001b[0;32m    923\u001b[0m \u001b[38;5;250m    \u001b[39m\u001b[38;5;124;03m\"\"\"\u001b[39;00m\n\u001b[0;32m    924\u001b[0m \u001b[38;5;124;03m    Compute the 2-dimensional discrete Fourier Transform.\u001b[39;00m\n\u001b[0;32m    925\u001b[0m \n\u001b[1;32m   (...)\u001b[0m\n\u001b[0;32m   1012\u001b[0m \n\u001b[0;32m   1013\u001b[0m \u001b[38;5;124;03m    \"\"\"\u001b[39;00m\n\u001b[1;32m-> 1014\u001b[0m     \u001b[38;5;28;01mreturn\u001b[39;00m \u001b[43m_raw_fftnd\u001b[49m\u001b[43m(\u001b[49m\u001b[43ma\u001b[49m\u001b[43m,\u001b[49m\u001b[43m \u001b[49m\u001b[43ms\u001b[49m\u001b[43m,\u001b[49m\u001b[43m \u001b[49m\u001b[43maxes\u001b[49m\u001b[43m,\u001b[49m\u001b[43m \u001b[49m\u001b[43mfft\u001b[49m\u001b[43m,\u001b[49m\u001b[43m \u001b[49m\u001b[43mnorm\u001b[49m\u001b[43m)\u001b[49m\n",
      "File \u001b[1;32md:\\Miniconda\\envs\\vspace\\Lib\\site-packages\\numpy\\fft\\_pocketfft.py:702\u001b[0m, in \u001b[0;36m_raw_fftnd\u001b[1;34m(a, s, axes, function, norm)\u001b[0m\n\u001b[0;32m    701\u001b[0m \u001b[38;5;28;01mdef\u001b[39;00m \u001b[38;5;21m_raw_fftnd\u001b[39m(a, s\u001b[38;5;241m=\u001b[39m\u001b[38;5;28;01mNone\u001b[39;00m, axes\u001b[38;5;241m=\u001b[39m\u001b[38;5;28;01mNone\u001b[39;00m, function\u001b[38;5;241m=\u001b[39mfft, norm\u001b[38;5;241m=\u001b[39m\u001b[38;5;28;01mNone\u001b[39;00m):\n\u001b[1;32m--> 702\u001b[0m     a \u001b[38;5;241m=\u001b[39m \u001b[43masarray\u001b[49m\u001b[43m(\u001b[49m\u001b[43ma\u001b[49m\u001b[43m)\u001b[49m\n\u001b[0;32m    703\u001b[0m     s, axes \u001b[38;5;241m=\u001b[39m _cook_nd_args(a, s, axes)\n\u001b[0;32m    704\u001b[0m     itl \u001b[38;5;241m=\u001b[39m \u001b[38;5;28mlist\u001b[39m(\u001b[38;5;28mrange\u001b[39m(\u001b[38;5;28mlen\u001b[39m(axes)))\n",
      "File \u001b[1;32md:\\Miniconda\\envs\\vspace\\Lib\\site-packages\\jax\\_src\\core.py:756\u001b[0m, in \u001b[0;36mTracer.__array__\u001b[1;34m(self, *args, **kw)\u001b[0m\n\u001b[0;32m    755\u001b[0m \u001b[38;5;28;01mdef\u001b[39;00m \u001b[38;5;21m__array__\u001b[39m(\u001b[38;5;28mself\u001b[39m, \u001b[38;5;241m*\u001b[39margs, \u001b[38;5;241m*\u001b[39m\u001b[38;5;241m*\u001b[39mkw):\n\u001b[1;32m--> 756\u001b[0m   \u001b[38;5;28;01mraise\u001b[39;00m TracerArrayConversionError(\u001b[38;5;28mself\u001b[39m)\n",
      "\u001b[1;31mTracerArrayConversionError\u001b[0m: The numpy.ndarray conversion method __array__() was called on traced array with shape complex64[624,624]\nSee https://jax.readthedocs.io/en/latest/errors.html#jax.errors.TracerArrayConversionError"
>>>>>>> 59b7ad09d332369c2bcf62c18664d7fb59ba9a90
     ]
    }
   ],
   "source": [
<<<<<<< HEAD
    "update_obj = adam_optimization(init_obj = jnp.array(obj), measured = jnp.array(data), background = jnp.array(bcg), probe = jnp.array(probe), learning_rate = 0.4, num_iterations = 1000)\n",
=======
    "update_obj = adam_optimization(jnp.array(obj), jnp.array(data), jnp.array(bcg), jnp.array(probe), 0.4, 1000)\n",
>>>>>>> 59b7ad09d332369c2bcf62c18664d7fb59ba9a90
    "plt.imshow(jnp.abs(update_obj))"
   ]
  }
 ],
 "metadata": {
  "kernelspec": {
   "display_name": ".venv",
   "language": "python",
   "name": "python3"
  },
  "language_info": {
   "codemirror_mode": {
    "name": "ipython",
    "version": 3
   },
   "file_extension": ".py",
   "mimetype": "text/x-python",
   "name": "python",
   "nbconvert_exporter": "python",
   "pygments_lexer": "ipython3",
   "version": "3.12.1"
  }
 },
 "nbformat": 4,
 "nbformat_minor": 2
}
