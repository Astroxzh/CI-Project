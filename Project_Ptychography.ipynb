{
 "cells": [
  {
   "cell_type": "markdown",
   "metadata": {},
   "source": [
    "# **Project Goals**"
   ]
  },
  {
   "cell_type": "markdown",
   "metadata": {},
   "source": [
    "The goal of the project would be as follows:\n",
    "\n",
    "1: Write your own code (not an existing repo on the internet) that performs single shot ptychography using structured illumination as demonstrated in the papers by Levitan et al.\n",
    "\n",
    "2: answer the following question:\n",
    "\n",
    "a. What happens if the illumination (=probe) field has zero crossings? Is this a problem for the method? Do zero crossing result in non-measured points?\n",
    "\n",
    "b. suppose the method is simulated using 2x2 upsampling (that is, 2x2 probe pixels determine the average phase in a 1x1 super-pixel inside the object). Is it required that there is a relative phase shift between the 2x2 pixels inside the probe? Or can the modulation be amplitude-only (that is no phase shift, but an intensity variation)\n",
    "\n",
    "c. What is the minimum amount of upsampling needed?\n",
    "\n",
    "d. Is there a class of illumination functions for which the method fails?\n",
    "\n",
    "e. Try implementing regularization to the method. Please include L1, L2, and Total variation regularization."
   ]
  },
  {
   "cell_type": "markdown",
   "metadata": {},
   "source": [
    "# **Project Ptychography**"
   ]
  },
  {
   "cell_type": "markdown",
   "metadata": {},
   "source": [
    "Illumination: A grid of partially overlapping beams, each beam approaches the sample from different angles. \n",
    "\n",
    "Reconstruction: Randomized probe imaging algorithm. \n",
    "\n",
    "General strategy: Divide the intensity pattern into a collection of individual, smaller diffraction patterns. The smaller patterns are centered on an individual beam and tagged with a corresponding translation at the same plane.\n",
    "\n",
    "X-ray problem: Difficult to generate a grid of identical beams with sufficient angular separation and uniform intensities. Grating equation: $d(\n",
    "\\sin\\theta_m) = m\\lambda$. Small wavelength leads to small grating period.\n",
    "\n",
    "Feature: It recovers both the probe and the object, so the probe is not needed to be known. But the division of the detector limits resolution by limiting the NA"
   ]
  },
  {
   "cell_type": "markdown",
   "metadata": {},
   "source": [
    "Method used in the single-shot article:\n",
    "\n",
    "A purely iterative algorithm for single-shot ptychography which uses a pre-calibrated probe and operates on full diffraction patterns without partitioning them into a ptychography dataset.\n",
    "\n",
    "This method overcomes limitations of the general strategy that in cases where the object contains high frequency components, the scattering from neighboring beams does overlap and interfere, causing reconstructions to perform poorly.\n",
    "\n",
    "The forward model for this algorithm:\n",
    "\n",
    "$$I = \\sum_{n=1}^{N} \\left| \\mathcal{F} \\left\\{ P_n \\cdot \\mathcal{F}^{-1} \\left\\{ \\mathcal{U} \\cdot \\exp(i T) \\right\\} \\right\\} \\right|^2$$\n",
    "\n",
    "$P_n$ is the discrete representation= of the nth mode of the pre-calibrated probe. $\\mathcal{U} is a zero padding operator, and $T$ is a low-resolution representation of the object's transmission function\n",
    "\n",
    "Zero-padding $\\mathcal{U}$ is a band-limiting constraint that stablizes the inverse problem.\n",
    "\n",
    "$T$ is constraint to be purely real to apply an additional phase-only constraint on the object. Allowing $T$ to be complex-valued can remove the phase-only constraint. The final object function is defined as:\n",
    "\n",
    "$$ O = \\exp(iT)$$\n",
    "\n",
    "The first step of the model is to upsample the low-resolution object $O$ by padding it with zeros in Fourier space"
   ]
  },
  {
   "cell_type": "code",
   "execution_count": 10,
   "metadata": {},
   "outputs": [],
   "source": [
    "def forward_model(obj):\n",
    "    return obj"
   ]
  },
  {
   "cell_type": "markdown",
   "metadata": {},
   "source": [
    "## **Reconstruction**"
   ]
  },
  {
   "cell_type": "markdown",
   "metadata": {},
   "source": [
    "To perform a reconstruction, we start with an initial guess of the project function and use a forward model to simulate the corresponding diffraction pattern. \n",
    "\n",
    "Next, we calculate the normalized mean squared error between the measured diffraction amplitudes and a simulated diffraction pattern including a known detector background:\n",
    "\n",
    "$$ L = \\frac{1}{\\sum_{ij}I_{ij}} \\sum_{ij}\\left( \\sqrt{|\\tilde{E_{ij}}|^2 + B_{ij}} - \\sqrt{I_{ij}}\\right)^2$$\n",
    "\n",
    "From the equation above, we can write it in Python:"
   ]
  },
  {
   "cell_type": "code",
   "execution_count": null,
   "metadata": {},
   "outputs": [],
   "source": [
    "import jax.numpy as jnp\n",
    "from chex import assert_equal_shape\n",
    "\n",
    "def loss_function(simulated: jnp.ndarray, background: jnp.ndarray, measured: jnp.ndarray) -> float:\n",
    "    '''\n",
    "    Calculates the normalized mean squared error (L) for the given simulated diffraction amplitudes E, detector background B, and the measured diffraction pattern I.\n",
    "\n",
    "    Args: \n",
    "        simulated (jnp.ndarray): The simulated diffraction pattern (Intensity) calculated from a forward model\n",
    "        backgroud (jnp.ndarray): The detector background (Intensity)\n",
    "        I (jnp.ndarray): The measured diffraction pattern (Intensity)\n",
    "    \n",
    "    Return:\n",
    "        float: The normalized mean squared error (L) \n",
    "    '''\n",
    "    # Assert that the three arrays have the same shape\n",
    "    assert_equal_shape([simulated, background, measured])\n",
    "\n",
    "    # Calculate the factor to normalize the error\n",
    "    factor = 1.0 / (jnp.sum(measured) + 1e-10)\n",
    "\n",
    "    # Calculate the simulated diffraction amplitudes\n",
    "    simulated_amp = jnp.sqrt(simulated + background)\n",
    "\n",
    "    # Calculate the measured diffraction amplitudes\n",
    "    measured_amp = jnp.sqrt(measured)\n",
    "\n",
    "    # Calculate the normalized mean squared error\n",
    "    loss = factor * jnp.sum((simulated_amp - measured_amp) ** 2)\n",
    "\n",
    "    return loss"
   ]
  },
  {
   "cell_type": "markdown",
   "metadata": {},
   "source": [
    "Example usage:"
   ]
  },
  {
   "cell_type": "code",
   "execution_count": null,
   "metadata": {},
   "outputs": [
    {
     "name": "stdout",
     "output_type": "stream",
     "text": [
      "loss = 0.0014692659\n"
     ]
    }
   ],
   "source": [
    "simulated = jnp.array([[1.0, 2.0], [3.0, 4.0]])  # Simulated amplitudes (complex or real)\n",
    "background = jnp.array([[0.1, 0.1], [0.1, 0.1]])   # Background\n",
    "measured = jnp.array([[1.5, 4.5], [9.5, 16.5]])   # Measured intensities\n",
    "\n",
    "print(\"loss =\", loss_function(simulated, background, measured))"
   ]
  },
  {
   "cell_type": "markdown",
   "metadata": {},
   "source": [
    "We then use automatic differentiation to calculate the Wirtinger derivative of the loss function with respect to the object guess $T$:\n",
    "\n",
    "$$ \\frac{\\delta L}{\\delta T} = \\frac{\\delta L}{\\delta |E_{ij}|^2} \\frac{\\delta |E_{ij}|^2}{\\delta T}$$"
   ]
  },
  {
   "cell_type": "code",
   "execution_count": 11,
   "metadata": {},
   "outputs": [],
   "source": [
    "from jax import grad\n",
    "\n",
    "def derivative_loss_function_wrt_obj(obj: jnp.ndarray):\n",
    "    '''\n",
    "    Calculates the Wirtinger derivative of the loss function with respect to the object guess obj.\n",
    "\n",
    "    Args:\n",
    "        obj (jnp.ndarray): The object guess (complex or real)\n",
    "\n",
    "    Return:\n",
    "        jnp.ndarray: The derivative of the loss function with respect to the object guess obj\n",
    "    '''\n",
    "    # Calculate the derivative of the foward model wrt the object\n",
    "    d_forward_model = grad(forward_model)(obj)\n",
    "\n",
    "    # Calculate the derivative of the loss function wrt the simulated pattern\n",
    "    simulated = forward_model(obj)\n",
    "    d_loss_function_wrt_simulated = grad(loss_function)(simulated)\n",
    "\n",
    "    # Calculate the derivative of the loss function wrt the object\n",
    "    d_loss_function_wrt_obj = d_loss_function_wrt_simulated * d_forward_model\n",
    "\n",
    "    return d_loss_function_wrt_obj\n"
   ]
  }
 ],
 "metadata": {
  "kernelspec": {
   "display_name": ".venv",
   "language": "python",
   "name": "python3"
  },
  "language_info": {
   "codemirror_mode": {
    "name": "ipython",
    "version": 3
   },
   "file_extension": ".py",
   "mimetype": "text/x-python",
   "name": "python",
   "nbconvert_exporter": "python",
   "pygments_lexer": "ipython3",
   "version": "3.12.1"
  }
 },
 "nbformat": 4,
 "nbformat_minor": 2
}
